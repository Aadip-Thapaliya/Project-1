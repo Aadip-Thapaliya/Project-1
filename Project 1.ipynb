{
 "cells": [
  {
   "cell_type": "markdown",
   "id": "e7ae4684-d749-49bc-99ad-e3b57925f949",
   "metadata": {},
   "source": [
    "Writing A Function that can print out the board and i am using board as list where the index range from 1-9 which corresponds to number pad "
   ]
  },
  {
   "cell_type": "code",
   "execution_count": 22,
   "id": "0a496802-e895-4f2b-9e58-aa4564892d84",
   "metadata": {},
   "outputs": [],
   "source": [
    "from IPython.display import clear_output\n",
    "\n",
    "def display_board(board):\n",
    "    clear_output()\n",
    "    \n",
    "    print('   |   |')\n",
    "    print(' ' + board[7] + ' | ' + board[8] + ' | ' + board[9])\n",
    "    print('   |   |')\n",
    "    print('-----------')\n",
    "    print('   |   |')\n",
    "    print(' ' + board[4] + ' | ' + board[5] + ' | ' + board[6])\n",
    "    print('   |   |')\n",
    "    print('-----------')\n",
    "    print('   |   |')\n",
    "    print(' ' + board[1] + ' | ' + board[2] + ' | ' + board[3])\n",
    "    print('   |   |')"
   ]
  },
  {
   "cell_type": "markdown",
   "id": "470b3926-242d-40ac-80fc-d5e7399f61cd",
   "metadata": {},
   "source": [
    "Testing out the board "
   ]
  },
  {
   "cell_type": "code",
   "execution_count": 29,
   "id": "cfc36ca2-be8d-4307-8ada-13b7c508cc82",
   "metadata": {},
   "outputs": [
    {
     "name": "stdout",
     "output_type": "stream",
     "text": [
      "   |   |\n",
      " X | O | X\n",
      "   |   |\n",
      "-----------\n",
      "   |   |\n",
      " O | X | O\n",
      "   |   |\n",
      "-----------\n",
      "   |   |\n",
      " X | O | X\n",
      "   |   |\n"
     ]
    }
   ],
   "source": [
    "test_board = ['#','X','O','X','O','X','O','X','O','X']\n",
    "display_board(test_board)"
   ]
  },
  {
   "cell_type": "markdown",
   "id": "06be8fb1-e5f9-4382-b6e3-7c3ffd2c97e1",
   "metadata": {},
   "source": [
    "Writing a function that can take player input until player assign \"x\" or \"o\""
   ]
  },
  {
   "cell_type": "code",
   "execution_count": 32,
   "id": "7f0ecd78-ba9d-453a-b325-e97127e83b84",
   "metadata": {},
   "outputs": [],
   "source": [
    "\n",
    "def player_input():\n",
    "    marker = ''\n",
    "    \n",
    "    while not (marker == 'X' or marker == 'O'):\n",
    "        marker = input('Player 1: Do you want to be X or O? ').upper()\n",
    "\n",
    "    if marker == 'X':\n",
    "        return ('X', 'O')\n",
    "    else:\n",
    "        return ('O', 'X')\n",
    "        "
   ]
  },
  {
   "cell_type": "markdown",
   "id": "e2a794b5-275c-4f1e-aa07-7c76f0f2a3b2",
   "metadata": {},
   "source": [
    "checking the input function"
   ]
  },
  {
   "cell_type": "code",
   "execution_count": 40,
   "id": "168fa2a1-099f-4a49-a1cf-ffcdbd4c25a2",
   "metadata": {},
   "outputs": [
    {
     "name": "stdin",
     "output_type": "stream",
     "text": [
      "Player 1: Do you want to be X or O?  o\n"
     ]
    },
    {
     "data": {
      "text/plain": [
       "('O', 'X')"
      ]
     },
     "execution_count": 40,
     "metadata": {},
     "output_type": "execute_result"
    }
   ],
   "source": [
    "player_input()"
   ]
  },
  {
   "cell_type": "markdown",
   "id": "007f7fb9-270b-4bd4-8771-cde606ad652b",
   "metadata": {},
   "source": [
    "A function that takes in the board list object, a marker ('X' or 'O'), and a desired position (number 1-9) and assigns it to the board."
   ]
  },
  {
   "cell_type": "code",
   "execution_count": 44,
   "id": "de557534-69cf-47cc-9a7e-dd5c477badf2",
   "metadata": {},
   "outputs": [],
   "source": [
    "def place_marker(board, marker, position):\n",
    "    board[position] = marker"
   ]
  },
  {
   "cell_type": "code",
   "execution_count": 46,
   "id": "ea4c9e50-26a0-4282-993e-b38206b36096",
   "metadata": {},
   "outputs": [
    {
     "name": "stdout",
     "output_type": "stream",
     "text": [
      "   |   |\n",
      " X | $ | X\n",
      "   |   |\n",
      "-----------\n",
      "   |   |\n",
      " O | X | O\n",
      "   |   |\n",
      "-----------\n",
      "   |   |\n",
      " X | O | X\n",
      "   |   |\n"
     ]
    }
   ],
   "source": [
    "place_marker(test_board,'$',8)\n",
    "display_board(test_board)"
   ]
  },
  {
   "cell_type": "markdown",
   "id": "df019c13-ff75-4083-bfbb-a9d0573c1877",
   "metadata": {},
   "source": [
    "Writing a function that takes in a board and checks to see if someone has won"
   ]
  },
  {
   "cell_type": "code",
   "execution_count": 48,
   "id": "10196299-de7d-4c1f-93e2-3ea847884e57",
   "metadata": {},
   "outputs": [],
   "source": [
    "def win_check(board,mark):\n",
    "    \n",
    "    return ((board[7] == mark and board[8] == mark and board[9] == mark) or \n",
    "    (board[4] == mark and board[5] == mark and board[6] == mark) or \n",
    "    (board[1] == mark and board[2] == mark and board[3] == mark) or \n",
    "    (board[7] == mark and board[4] == mark and board[1] == mark) or \n",
    "    (board[8] == mark and board[5] == mark and board[2] == mark) or\n",
    "    (board[9] == mark and board[6] == mark and board[3] == mark) or \n",
    "    (board[7] == mark and board[5] == mark and board[3] == mark) or \n",
    "    (board[9] == mark and board[5] == mark and board[1] == mark)) "
   ]
  },
  {
   "cell_type": "code",
   "execution_count": 50,
   "id": "742203f1-4db9-4cb8-8cff-90953a5bb3bd",
   "metadata": {},
   "outputs": [
    {
     "data": {
      "text/plain": [
       "True"
      ]
     },
     "execution_count": 50,
     "metadata": {},
     "output_type": "execute_result"
    }
   ],
   "source": [
    "win_check(test_board,'X')"
   ]
  },
  {
   "cell_type": "markdown",
   "id": "f481b381-da7c-466d-a369-8ada468f5cbe",
   "metadata": {},
   "source": [
    "A function that uses the random module to randomly decide which player goes first"
   ]
  },
  {
   "cell_type": "code",
   "execution_count": 53,
   "id": "3e608b47-3035-491c-893c-1242e0f27fc8",
   "metadata": {},
   "outputs": [],
   "source": [
    "import random\n",
    "\n",
    "def choose_first():\n",
    "    if random.randint(0, 1) == 0:\n",
    "        return 'Player 2'\n",
    "    else:\n",
    "        return 'Player 1'"
   ]
  },
  {
   "cell_type": "markdown",
   "id": "519db012-f291-4387-a5bc-541aaaa178f1",
   "metadata": {},
   "source": [
    "Writing a function that returns a boolean indicating whether a space on the board is freely available."
   ]
  },
  {
   "cell_type": "code",
   "execution_count": 56,
   "id": "ebbcce88-7981-4ed0-affc-530005235b02",
   "metadata": {},
   "outputs": [],
   "source": [
    "def space_check(board, position):\n",
    "    \n",
    "    return board[position] == ' '"
   ]
  },
  {
   "cell_type": "markdown",
   "id": "2e363931-b330-498f-ace1-2d95f939a118",
   "metadata": {},
   "source": [
    "Writing a function that checks if the board is full and returns a boolean value. True if full, False otherwise"
   ]
  },
  {
   "cell_type": "code",
   "execution_count": 59,
   "id": "3ee9cb35-0ed7-4ede-a920-5614f71f0f9a",
   "metadata": {},
   "outputs": [],
   "source": [
    "def full_board_check(board):\n",
    "    for i in range(1,10):\n",
    "        if space_check(board, i):\n",
    "            return False\n",
    "    return True"
   ]
  },
  {
   "cell_type": "markdown",
   "id": "5f3bf195-1584-45d9-bc2f-fcf8a7af215a",
   "metadata": {},
   "source": [
    "Write a function that asks for a player's next position (as a number 1-9) and then uses the function to check if its a free position. If it is, then return the position for later use. "
   ]
  },
  {
   "cell_type": "code",
   "execution_count": 62,
   "id": "b71a3e25-b4e6-4fbc-890b-5f64c8fb234c",
   "metadata": {},
   "outputs": [],
   "source": [
    "def player_choice(board):\n",
    "    position = 0\n",
    "    \n",
    "    while position not in [1,2,3,4,5,6,7,8,9] or not space_check(board, position):\n",
    "        position = int(input('Choose your next position: (1-9) '))\n",
    "        \n",
    "    return position"
   ]
  },
  {
   "cell_type": "markdown",
   "id": "4bb8753e-f476-4fd4-b1b4-7f12aa772f9e",
   "metadata": {},
   "source": [
    "Writing a function that asks the player if they want to play again and returns a boolean True if they do want to play again."
   ]
  },
  {
   "cell_type": "code",
   "execution_count": 67,
   "id": "e8d5d8f9-eea2-45df-abcd-91d518084aaf",
   "metadata": {},
   "outputs": [],
   "source": [
    "\n",
    "def replay():\n",
    "    \n",
    "    return input('Do you want to play again? Enter Yes or No: ').lower().startswith('y')"
   ]
  },
  {
   "cell_type": "markdown",
   "id": "35ff0501-fcdb-47aa-b921-80fc538614c4",
   "metadata": {},
   "source": [
    "Use while loops and the functions to run the game"
   ]
  },
  {
   "cell_type": "code",
   "execution_count": 72,
   "id": "b56cf211-e8fd-4b18-b26c-527c0c43dc16",
   "metadata": {},
   "outputs": [
    {
     "name": "stdout",
     "output_type": "stream",
     "text": [
      "   |   |\n",
      " X |   |  \n",
      "   |   |\n",
      "-----------\n",
      "   |   |\n",
      " O | X | O\n",
      "   |   |\n",
      "-----------\n",
      "   |   |\n",
      " X | O | X\n",
      "   |   |\n",
      "Congratulations! You have won the game!\n"
     ]
    },
    {
     "name": "stdin",
     "output_type": "stream",
     "text": [
      "Do you want to play again? Enter Yes or No:  no\n"
     ]
    }
   ],
   "source": [
    "print('Welcome to Tic Tac Toe!')\n",
    "while True:\n",
    "    # Reset the board\n",
    "    theBoard = [' '] * 10\n",
    "    player1_marker, player2_marker = player_input()\n",
    "    turn = choose_first()\n",
    "    print(turn + ' will go first.')\n",
    "    play_game = input('Are you ready to play? Enter Yes or No.')\n",
    "    if play_game.lower()[0] == 'y':\n",
    "        game_on = True\n",
    "    else:\n",
    "        game_on = False\n",
    "    while game_on:\n",
    "        if turn == 'Player 1':\n",
    "            # Player1's turn.\n",
    "            display_board(theBoard)\n",
    "            position = player_choice(theBoard)\n",
    "            place_marker(theBoard, player1_marker, position)\n",
    "            if win_check(theBoard, player1_marker):\n",
    "                display_board(theBoard)\n",
    "                print('Congratulations! You have won the game!')\n",
    "                game_on = False\n",
    "            else:\n",
    "                if full_board_check(theBoard):\n",
    "                    display_board(theBoard)\n",
    "                    print('The game is a draw!')\n",
    "                    break\n",
    "                else:\n",
    "                    turn = 'Player 2'\n",
    "        else:\n",
    "            # Player2's turn.\n",
    "            display_board(theBoard)\n",
    "            position = player_choice(theBoard)\n",
    "            place_marker(theBoard, player2_marker, position)\n",
    "\n",
    "            if win_check(theBoard, player2_marker):\n",
    "                display_board(theBoard)\n",
    "                print('Player 2 has won!')\n",
    "                game_on = False\n",
    "            else:\n",
    "                if full_board_check(theBoard):\n",
    "                    display_board(theBoard)\n",
    "                    print('The game is a draw!')\n",
    "                    break\n",
    "                else:\n",
    "                    turn = 'Player 1'\n",
    "\n",
    "    if not replay():\n",
    "        break"
   ]
  }
 ],
 "metadata": {
  "kernelspec": {
   "display_name": "Python 3 (ipykernel)",
   "language": "python",
   "name": "python3"
  },
  "language_info": {
   "codemirror_mode": {
    "name": "ipython",
    "version": 3
   },
   "file_extension": ".py",
   "mimetype": "text/x-python",
   "name": "python",
   "nbconvert_exporter": "python",
   "pygments_lexer": "ipython3",
   "version": "3.12.4"
  }
 },
 "nbformat": 4,
 "nbformat_minor": 5
}
